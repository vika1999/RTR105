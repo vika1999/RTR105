{
 "cells": [
  {
   "cell_type": "code",
   "execution_count": null,
   "metadata": {},
   "outputs": [],
   "source": [
    "#Saknes integresana\n",
    "\n",
    "from numpy import random, arctan\n",
    "from matplotlib import pyplot as plt\n",
    "\n",
    "N = 10000\n",
    "\n",
    "a = 0\n",
    "b = 10\n",
    "c = 5\n",
    "\n",
    "x = random.uniform(a, b, N)\n",
    "y = random.uniform(a, c, N)\n",
    "\n",
    "plt.grid()\n",
    "plt.xlabel('x')\n",
    "plt.ylabel('y')\n",
    "\n",
    "plt.title('F-cija un tās integrālis')\n",
    "plt.plot(x, y, 'ko')\n",
    "\n",
    "N1 = 0\n",
    "\n",
    "for i in range(N):\n",
    "    if y[i] < arctan(x[i] / 2):\n",
    "        plt.plot(x[i], y[i], 'go')\n",
    "        N1 = N1 + 1\n",
    "    else:\n",
    "        plt.plot(x[i], y[i], 'ro')\n",
    "        \n",
    "plt.show()\n",
    "\n",
    "S = (b - a) * (c - a)\n",
    "jaunaS = float(S * N1 / N)\n",
    "print(\"Laukuma skaitliskā vertība:\", jaunaS)"
   ]
  },
  {
   "cell_type": "code",
   "execution_count": null,
   "metadata": {},
   "outputs": [],
   "source": [
    "Integrācijas rezultāts: 10.52"
   ]
  }
 ],
 "metadata": {
  "kernelspec": {
   "display_name": "Python 3",
   "language": "python",
   "name": "python3"
  },
  "language_info": {
   "codemirror_mode": {
    "name": "ipython",
    "version": 3
   },
   "file_extension": ".py",
   "mimetype": "text/x-python",
   "name": "python",
   "nbconvert_exporter": "python",
   "pygments_lexer": "ipython3",
   "version": "3.6.7"
  }
 },
 "nbformat": 4,
 "nbformat_minor": 2
}
