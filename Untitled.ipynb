{
 "cells": [
  {
   "cell_type": "code",
   "execution_count": null,
   "metadata": {},
   "outputs": [],
   "source": [
    "#RTR105\n",
    "***Teilora rindas***"
   ]
  },
  {
   "cell_type": "code",
   "execution_count": null,
   "metadata": {},
   "outputs": [],
   "source": [
    "#Vispirms gribu pateikt, ka ar teilora rindas funkcijas var saprast , kada lieluma, platuma, garuma un tilpuma var atrasties kaut kada konkreta funkcija.\n",
    "\n",
    "# -*- coding: utf-8 -*-\n",
    "from math import cos\n",
    "\n",
    "def mans_cosinuss(x):\n",
    "    k = 0\n",
    "    a = (-1)**0*x**1/(1)\n",
    "    S = a\n",
    "    print(\"Izdruka no liet.f. a0 = %6.2f S0 = %6.2f\"%(a,S))\n",
    "\n",
    "    while k < 4:\n",
    "        k = k + 1\n",
    "        R = (-1)*x*x/((2*k)*(2*k+1))\n",
    "        a = a * R\n",
    "        S = S + a\n",
    "        print(\"Izdruka no liet.f. a%d = %6.2f S%d = %6.2f\"%(k,a,k,S))\n",
    "\n",
    "    print(\"Izdruka no liet.f. Beigas!\")\n",
    "    return S\n",
    "\n",
    "x = float(input(\"Lietotāj, lūdzu, ievadi atgumentu (x): \")) - #varat ievadit tadas lietas, kurus nepieciesams paradit to, ka vajag ievadit uz ekrana ka nakotnes darbibas.\n",
    "y = cos(x)\n",
    "print(\"standarta sin(%.2f) = %6.2f\"%(x,y)) - #ar siem funkcijam var saglabat argumentu un ar tadu saglabasanu (argumenta saglabasanu) var risinat nepieciesamos uzdevumus, printet un papildinat sin vai cos ar dazadiem pielilumiem vai samazinajumiem.\n",
    "yy = mans_cosinuss(x)\n",
    "print(\"mans sin (%.2f) = %6.2f\"%(x,yy))"
   ]
  },
  {
   "cell_type": "code",
   "execution_count": null,
   "metadata": {},
   "outputs": [],
   "source": [
    "     ________\n",
    "     \\\n",
    "      \\\n",
    "       \\\n",
    "        \\      (-1)^k * x^2*k       x^2     X^5    x^7\n",
    "         \\     ______________ = 1 * ____ + ____ + ____ +..., kur -∞ < x < ∞ \n",
    "cos(x) = /                  \n",
    "        /          (2*k)!            2!     4!     6!     \n",
    "       /\n",
    "      /\n",
    "     /_______ \n",
    "        k = 0"
   ]
  }
 ],
 "metadata": {
  "kernelspec": {
   "display_name": "Python 3",
   "language": "python",
   "name": "python3"
  },
  "language_info": {
   "codemirror_mode": {
    "name": "ipython",
    "version": 3
   },
   "file_extension": ".py",
   "mimetype": "text/x-python",
   "name": "python",
   "nbconvert_exporter": "python",
   "pygments_lexer": "ipython3",
   "version": "3.6.7"
  }
 },
 "nbformat": 4,
 "nbformat_minor": 2
}
