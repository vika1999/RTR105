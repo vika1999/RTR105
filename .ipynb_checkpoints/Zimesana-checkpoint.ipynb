{
 "cells": [
  {
   "cell_type": "code",
   "execution_count": null,
   "metadata": {},
   "outputs": [],
   "source": [
    "#Laboratorijas darbs (1B1.py)\n",
    "\n",
    "import sys\n",
    "sys.path.append('/usr/local/anaconda3/lib/python3.6/site-packages')\n",
    "                \n",
    "from numpy import cos, linspace, sin\n",
    "\n",
    "#x = linspace(0, 7, 70) #solis=(7-0)/(70-1)\n",
    "x = linspace(0, 4, 11) #solis=(4-0)/(11-1)\n",
    "y = cos(x)\n",
    "y1= sin(x)\n",
    "#print(vars())\n",
    "\n",
    "from matplotlib import pyplot as plt\n",
    "plt.grid()\n",
    "plt.xlabel('x')\n",
    "plt.ylabel('f(x)')\n",
    "plt.title('$Funkcija$ $cos(x)$ un $sin(x)$')\n",
    "plt.plot(x, y, 'bo')\n",
    "plt.plot(x, y1, 'bo')\n",
    "plt.plot(x, y, color = '#FF0098')\n",
    "plt.plot(x, y1, color = '#FF0033')\n",
    "plt.legend(['$cos(x)$', '$sin(x)$', '$cos(x)$', '$sin(x)$'])\n",
    "\n",
    "plt.show()"
   ]
  },
  {
   "cell_type": "code",
   "execution_count": null,
   "metadata": {},
   "outputs": [],
   "source": [
    "#Laboratorijas darbs (1B2.py)\n",
    "\n",
    "import sys\n",
    "sys.path.append('/usr/local/anaconda3/lib/python3.6/site-packages')\n",
    "\n",
    "from numpy import sin, linspace\n",
    "x = linspace(0, 4, 11)\n",
    "y= sin(x)\n",
    "y1= x\n",
    "#y2= x-x*x*x/(1*2*3)\n",
    "y2= y1 - x**3/(1*2*3)\n",
    "#y3= x-x*x*x/(1*2*3) + x*x*x*x*x/(1*2*3*4*5)\n",
    "y3= y2 - x**5/(1*2*3*4*5)\n",
    "#y4= x-x*x*x/(1*2*3) + x*x*x*x*x/(1*2*3*4*5) - x*x*x*x*x*x*x/(1*2*3*4*5*6*7)\n",
    "y4= y3 - x**7/(1*2*3*4*5*6*7)\n",
    "\n",
    "from matplotlib import pyplot as plt\n",
    "plt.grid()\n",
    "plt.xlabel('x')\n",
    "plt.ylabel('f(x)')\n",
    "plt.title('$Funkcija$ $cos(x)$ un $sin(x)$')\n",
    "plt.plot(x, y, color = '#FF0098')\n",
    "plt.plot(x, y1, color = '#00FF11')\n",
    "plt.plot(x, y2, color = '#0000FF')\n",
    "plt.plot(x, y3, color = '#FFFF00')\n",
    "plt.plot(x, y4, color = '#00FFFF')\n",
    "\n",
    "plt.legend(['$cos(x)$', '$x$', '$x-x^3/3!$', '$x-x^3/3!+x^5/5!$', '$x-x^3/3!+x^5/5!-x^7/7!$'])\n",
    "\n",
    "plt.show()"
   ]
  },
  {
   "cell_type": "code",
   "execution_count": null,
   "metadata": {},
   "outputs": [],
   "source": [
    "#Laboratorijas darbs (1B3.py)\n",
    "\n",
    "from matplotlib.pyplot import figure, show\n",
    "from math import pi\n",
    "import cmath\n",
    "\n",
    "fig = figure()\n",
    "ax = fig.add_subplot(111, polar=True)\n",
    "theta = [30,60]\n",
    "theta = [i*pi/180 for i in theta]\n",
    "r = [1.,2.]\n",
    "ax.bar(theta,r,width=0.01)\n",
    "show()"
   ]
  }
 ],
 "metadata": {
  "kernelspec": {
   "display_name": "Python 3",
   "language": "python",
   "name": "python3"
  },
  "language_info": {
   "codemirror_mode": {
    "name": "ipython",
    "version": 3
   },
   "file_extension": ".py",
   "mimetype": "text/x-python",
   "name": "python",
   "nbconvert_exporter": "python",
   "pygments_lexer": "ipython3",
   "version": "3.6.7"
  }
 },
 "nbformat": 4,
 "nbformat_minor": 2
}
